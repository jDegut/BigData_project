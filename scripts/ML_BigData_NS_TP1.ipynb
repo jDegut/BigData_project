{
 "cells": [
  {
   "cell_type": "markdown",
   "source": [
    "# TP1 BigData NS\n",
    "### Apprentissage supervisé avec Python\n",
    "### Julian DEGUT"
   ],
   "metadata": {
    "collapsed": false
   },
   "id": "5ab6b8d0088f466b"
  },
  {
   "cell_type": "code",
   "execution_count": 1,
   "outputs": [],
   "source": [
    "import numpy as np\n",
    "np.set_printoptions(threshold=10000,suppress=True)\n",
    "import pandas as pd\n",
    "import warnings\n",
    "import matplotlib.pyplot as plt\n",
    "warnings.filterwarnings('ignore')"
   ],
   "metadata": {
    "collapsed": false,
    "ExecuteTime": {
     "end_time": "2024-01-30T15:26:20.519278300Z",
     "start_time": "2024-01-30T15:26:18.524970600Z"
    }
   },
   "id": "410ff3309d9db7ee"
  },
  {
   "cell_type": "markdown",
   "source": [
    "## I / Apprentissage supervisé : Feature engineering et Classification\n",
    "#### 1. Importer les données"
   ],
   "metadata": {
    "collapsed": false
   },
   "id": "4517243ff2da2d1d"
  },
  {
   "cell_type": "code",
   "execution_count": 2,
   "outputs": [
    {
     "name": "stdout",
     "output_type": "stream",
     "text": [
      "x shape : (4375, 13)\n",
      "y shape : (4375,)\n",
      "Pourcentage de positif dans y : 72.20571428571428 %\n",
      "Poucentage de négatif dans y : 27.794285714285717 %\n"
     ]
    }
   ],
   "source": [
    "df = pd.read_csv('../data/credit_scoring.csv', sep=';')\n",
    "\n",
    "data = df.values\n",
    "\n",
    "x = data[:,0:len(data[0])-1]\n",
    "y = data[:,len(data[0])-1]\n",
    "\n",
    "print(\"x shape :\", x.shape)\n",
    "print(\"y shape :\", y.shape)\n",
    "\n",
    "print(\"Pourcentage de positif dans y :\", np.sum(y)/len(y)*100, \"%\")\n",
    "print(\"Poucentage de négatif dans y :\", (len(y)-np.sum(y))/len(y)*100, \"%\")"
   ],
   "metadata": {
    "collapsed": false,
    "ExecuteTime": {
     "end_time": "2024-01-30T15:26:20.589111400Z",
     "start_time": "2024-01-30T15:26:20.529030400Z"
    }
   },
   "id": "1eb609839af74858"
  },
  {
   "cell_type": "markdown",
   "source": [
    "Séparation des données en x_train, x_test, y_train, y_test :"
   ],
   "metadata": {
    "collapsed": false
   },
   "id": "5328429e178f743e"
  },
  {
   "cell_type": "code",
   "execution_count": 3,
   "outputs": [
    {
     "name": "stdout",
     "output_type": "stream",
     "text": [
      "x_train shape : (2187, 13)\n",
      "x_test shape : (2188, 13)\n",
      "y_train shape : (2187,)\n",
      "y_test shape : (2188,)\n"
     ]
    }
   ],
   "source": [
    "from sklearn.model_selection import train_test_split\n",
    "\n",
    "RANDOM_STATE = 1\n",
    "\n",
    "x_train, x_test, y_train, y_test = train_test_split(x, y, test_size=0.5, random_state=RANDOM_STATE)\n",
    "\n",
    "print(\"x_train shape :\", x_train.shape)\n",
    "print(\"x_test shape :\", x_test.shape)\n",
    "print(\"y_train shape :\", y_train.shape)\n",
    "print(\"y_test shape :\", y_test.shape)"
   ],
   "metadata": {
    "collapsed": false,
    "ExecuteTime": {
     "end_time": "2024-01-30T15:26:22.487683400Z",
     "start_time": "2024-01-30T15:26:20.585098400Z"
    }
   },
   "id": "b9c42cf2bf15f9cf"
  },
  {
   "cell_type": "markdown",
   "source": [
    "#### 2. Apprentissage et évaluation de modèles\n",
    "\n",
    "On comparera les critères d'accuracy et de précision car dans notre cas, on veut minimiser les faux positifs (on ne veut pas accorder un crédit à quelqu'un qui ne le remboursera pas)."
   ],
   "metadata": {
    "collapsed": false
   },
   "id": "130c183ce720f509"
  },
  {
   "cell_type": "code",
   "execution_count": 4,
   "outputs": [],
   "source": [
    "from sklearn.metrics import accuracy_score, precision_score\n",
    "from sklearn.tree import DecisionTreeClassifier\n",
    "from sklearn.neighbors import KNeighborsClassifier\n",
    "from sklearn.neural_network import MLPClassifier\n",
    "\n",
    "def get_accuracy_precision_on_nn(x1, x2, y1, y2, nn_type):\n",
    "    \"\"\"\n",
    "    Get accuracy and precision on a neural network.\n",
    "    :param x1: x_train\n",
    "    :param x2: x_test\n",
    "    :param y1: y_train\n",
    "    :param y2: y_test\n",
    "    :param nn_type: \"CART\", \"KNN\" or \"MLP\" \n",
    "    :return: accuracy and precision\n",
    "    \"\"\"\n",
    "    if nn_type == \"CART\":\n",
    "        nn = DecisionTreeClassifier(random_state=RANDOM_STATE)\n",
    "    elif nn_type == \"KNN\":\n",
    "        nn = KNeighborsClassifier()\n",
    "    elif nn_type == \"MLP\":\n",
    "        nn = MLPClassifier(hidden_layer_sizes=(40, 20), random_state=RANDOM_STATE)\n",
    "    else:\n",
    "        print(\"Type de modèle non reconnu\")\n",
    "        return\n",
    "    \n",
    "    nn.fit(x1, y1)\n",
    "    nn_accuracy = accuracy_score(y2, nn.predict(x2))\n",
    "    nn_precision = precision_score(y2, nn.predict(x2))\n",
    "    return nn_accuracy, nn_precision"
   ],
   "metadata": {
    "collapsed": false,
    "ExecuteTime": {
     "end_time": "2024-01-30T15:26:22.823545900Z",
     "start_time": "2024-01-30T15:26:22.487683400Z"
    }
   },
   "id": "45bbb72bab591887"
  },
  {
   "cell_type": "code",
   "execution_count": 5,
   "outputs": [
    {
     "name": "stdout",
     "output_type": "stream",
     "text": [
      "------------- Arbre CART -------------\n",
      "Score sur le test : 0.7271480804387569\n",
      "Score précision sur le test: 0.8194174757281554\n",
      "--------------------------------------\n",
      "------------- K-plus proches voisins -------------\n",
      "Score sur le test : 0.7248628884826326\n",
      "Score précision sur le test: 0.7709713024282561\n",
      "--------------------------------------------------\n",
      "------------- Multi-layer Perceptron -------------\n",
      "Score sur le test : 0.7353747714808044\n",
      "Score précision sur le test: 0.7442877977637335\n",
      "--------------------------------------------------\n"
     ]
    }
   ],
   "source": [
    "# Arbre CART\n",
    "tree_accuracy, tree_precision = get_accuracy_precision_on_nn(x_train, x_test, y_train, y_test, \"CART\")\n",
    "\n",
    "print(\"------------- Arbre CART -------------\")\n",
    "print(\"Score sur le test :\", tree_accuracy)\n",
    "print(\"Score précision sur le test:\", tree_precision)\n",
    "print(\"--------------------------------------\")\n",
    "\n",
    "# K-plus proches voisins\n",
    "knn_accuracy, knn_precision = get_accuracy_precision_on_nn(x_train, x_test, y_train, y_test, \"KNN\")\n",
    "\n",
    "print(\"------------- K-plus proches voisins -------------\")\n",
    "print(\"Score sur le test :\", knn_accuracy)\n",
    "print(\"Score précision sur le test:\", knn_precision)\n",
    "print(\"--------------------------------------------------\")\n",
    "\n",
    "# Multi-layer Perceptron\n",
    "mlp_accuracy, mlp_precision = get_accuracy_precision_on_nn(x_train, x_test, y_train, y_test, \"MLP\")\n",
    "\n",
    "print(\"------------- Multi-layer Perceptron -------------\")\n",
    "print(\"Score sur le test :\", mlp_accuracy)\n",
    "print(\"Score précision sur le test:\", mlp_precision)\n",
    "print(\"--------------------------------------------------\")"
   ],
   "metadata": {
    "collapsed": false,
    "ExecuteTime": {
     "end_time": "2024-01-30T15:26:24.065084600Z",
     "start_time": "2024-01-30T15:26:22.829083500Z"
    }
   },
   "id": "2b4d2405ad2fe0ce"
  },
  {
   "cell_type": "markdown",
   "source": [
    "#### 3. Normalisation des variables continues"
   ],
   "metadata": {
    "collapsed": false
   },
   "id": "11536172d98632e9"
  },
  {
   "cell_type": "code",
   "execution_count": 6,
   "outputs": [
    {
     "name": "stdout",
     "output_type": "stream",
     "text": [
      "------------- Arbre CART -------------\n",
      "Score sur le test (non normalisées) : 0.7271480804387569\n",
      "Score sur le test (normalisées) : 0.7271480804387569\n",
      "Score précision sur le test (non normalisées) : 0.8194174757281554\n",
      "Score précision sur le test (normalisées) : 0.8181818181818182\n",
      "--------------------------------------\n",
      "------------- K-plus proches voisins -------------\n",
      "Score sur le test (non normalisées) : 0.7248628884826326\n",
      "Score sur le test (normalisées) : 0.7527422303473492\n",
      "Score précision sur le test (non normalisées) : 0.7709713024282561\n",
      "Score précision sur le test (normalisées) : 0.8106015485407981\n",
      "--------------------------------------------------\n",
      "------------- Multi-layer Perceptron -------------\n",
      "Score sur le test (non normalisées) : 0.7353747714808044\n",
      "Score sur le test (normalisées) : 0.776508226691042\n",
      "Score précision sur le test (non normalisées) : 0.7442877977637335\n",
      "Score précision sur le test (normalisées) : 0.8381717109326745\n",
      "--------------------------------------------------\n"
     ]
    }
   ],
   "source": [
    "from sklearn.preprocessing import StandardScaler\n",
    "\n",
    "# Normalisation des données\n",
    "\n",
    "scaler = StandardScaler()\n",
    "scaler.fit(x_train)\n",
    "x_train_scaled = scaler.transform(x_train)\n",
    "x_test_scaled = scaler.transform(x_test)\n",
    "\n",
    "# Arbre CART\n",
    "tree_accuracy_norm, tree_precision_norm = get_accuracy_precision_on_nn(x_train_scaled, x_test_scaled, y_train, y_test, \"CART\")\n",
    "\n",
    "print(\"------------- Arbre CART -------------\")\n",
    "print(\"Score sur le test (non normalisées) :\", tree_accuracy)\n",
    "print(\"Score sur le test (normalisées) :\", tree_accuracy_norm)\n",
    "print(\"Score précision sur le test (non normalisées) :\", tree_precision)\n",
    "print(\"Score précision sur le test (normalisées) :\", tree_precision_norm)\n",
    "print(\"--------------------------------------\")\n",
    "\n",
    "# K-plus proches voisins\n",
    "knn_accuracy_norm, knn_precision_norm = get_accuracy_precision_on_nn(x_train_scaled, x_test_scaled, y_train, y_test, \"KNN\")\n",
    "\n",
    "print(\"------------- K-plus proches voisins -------------\")\n",
    "print(\"Score sur le test (non normalisées) :\", knn_accuracy)\n",
    "print(\"Score sur le test (normalisées) :\", knn_accuracy_norm)\n",
    "print(\"Score précision sur le test (non normalisées) :\", knn_precision)\n",
    "print(\"Score précision sur le test (normalisées) :\", knn_precision_norm)\n",
    "print(\"--------------------------------------------------\")\n",
    "\n",
    "# Multi-layer Perceptron\n",
    "mlp_accuracy_norm, mlp_precision_norm = get_accuracy_precision_on_nn(x_train_scaled, x_test_scaled, y_train, y_test, \"MLP\")\n",
    "\n",
    "print(\"------------- Multi-layer Perceptron -------------\")\n",
    "print(\"Score sur le test (non normalisées) :\", mlp_accuracy)\n",
    "print(\"Score sur le test (normalisées) :\", mlp_accuracy_norm)\n",
    "print(\"Score précision sur le test (non normalisées) :\", mlp_precision)\n",
    "print(\"Score précision sur le test (normalisées) :\", mlp_precision_norm)\n",
    "print(\"--------------------------------------------------\")"
   ],
   "metadata": {
    "collapsed": false,
    "ExecuteTime": {
     "end_time": "2024-01-30T15:26:28.160366900Z",
     "start_time": "2024-01-30T15:26:24.078730800Z"
    }
   },
   "id": "3c2ed19404af4415"
  },
  {
   "cell_type": "markdown",
   "source": [
    "#### 4. Création de nouvelles variables (PCA)"
   ],
   "metadata": {
    "collapsed": false
   },
   "id": "2e3376897efe7f24"
  },
  {
   "cell_type": "code",
   "execution_count": 7,
   "outputs": [
    {
     "name": "stdout",
     "output_type": "stream",
     "text": [
      "------------- Arbre CART -------------\n",
      "Score sur le test (non normalisées) : 0.7271480804387569\n",
      "Score sur le test (normalisées) : 0.7271480804387569\n",
      "Score sur le test (PCA norm) : 0.7362888482632541 \n",
      "\n",
      "Score précision sur le test (non normalisées) : 0.8194174757281554\n",
      "Score précision sur le test (normalisées) : 0.8181818181818182\n",
      "Score précision sur le test (PCA norm) : 0.8327825512227363\n",
      "--------------------------------------\n",
      "------------- K-plus proches voisins -------------\n",
      "Score sur le test (non normalisées) : 0.7248628884826326\n",
      "Score sur le test (normalisées) : 0.7527422303473492\n",
      "Score sur le test (PCA norm) : 0.756398537477148 \n",
      "\n",
      "Score précision sur le test (non normalisées) : 0.7709713024282561\n",
      "Score précision sur le test (normalisées) : 0.8106015485407981\n",
      "Score précision sur le test (PCA norm) : 0.8103957471943296\n",
      "--------------------------------------------------\n",
      "------------- Multi-layer Perceptron -------------\n",
      "Score sur le test (non normalisées) : 0.7353747714808044\n",
      "Score sur le test (normalisées) : 0.776508226691042\n",
      "Score sur le test (PCA norm) : 0.770109689213894 \n",
      "\n",
      "Score précision sur le test (non normalisées) : 0.7442877977637335\n",
      "Score précision sur le test (normalisées) : 0.8381717109326745\n",
      "Score précision sur le test (PCA norm) : 0.8269812462189957\n",
      "--------------------------------------------------\n"
     ]
    }
   ],
   "source": [
    "# PCA sur les données non normalisées, on garde les 3 premières dimensions et on les ajoute aux données normalisées\n",
    "from sklearn.decomposition import PCA\n",
    "\n",
    "pca = PCA(n_components=3)\n",
    "pca.fit(x_train_scaled)\n",
    "x_train_pca = pca.transform(x_train_scaled)\n",
    "x_test_pca = pca.transform(x_test_scaled)\n",
    "\n",
    "x_train_scaled_pca = np.concatenate((x_train_scaled, x_train_pca), axis=1)\n",
    "x_test_scaled_pca = np.concatenate((x_test_scaled, x_test_pca), axis=1)\n",
    "\n",
    "# Arbre CART\n",
    "tree_accuracy_pca, tree_precision_pca = get_accuracy_precision_on_nn(x_train_scaled_pca, x_test_scaled_pca, y_train, y_test, \"CART\")\n",
    "\n",
    "print(\"------------- Arbre CART -------------\")\n",
    "print(\"Score sur le test (non normalisées) :\", tree_accuracy)\n",
    "print(\"Score sur le test (normalisées) :\", tree_accuracy_norm)\n",
    "print(\"Score sur le test (PCA norm) :\", tree_accuracy_pca, \"\\n\")\n",
    "print(\"Score précision sur le test (non normalisées) :\", tree_precision)\n",
    "print(\"Score précision sur le test (normalisées) :\", tree_precision_norm)\n",
    "print(\"Score précision sur le test (PCA norm) :\", tree_precision_pca)\n",
    "print(\"--------------------------------------\")\n",
    "\n",
    "# K-plus proches voisins\n",
    "knn_accuracy_pca, knn_precision_pca = get_accuracy_precision_on_nn(x_train_scaled_pca, x_test_scaled_pca, y_train, y_test, \"KNN\")\n",
    "\n",
    "print(\"------------- K-plus proches voisins -------------\")\n",
    "print(\"Score sur le test (non normalisées) :\", knn_accuracy)\n",
    "print(\"Score sur le test (normalisées) :\", knn_accuracy_norm)\n",
    "print(\"Score sur le test (PCA norm) :\", knn_accuracy_pca, \"\\n\")\n",
    "print(\"Score précision sur le test (non normalisées) :\", knn_precision)\n",
    "print(\"Score précision sur le test (normalisées) :\", knn_precision_norm)\n",
    "print(\"Score précision sur le test (PCA norm) :\", knn_precision_pca)\n",
    "print(\"--------------------------------------------------\")\n",
    "\n",
    "# Multi-layer Perceptron\n",
    "mlp_accuracy_pca, mlp_precision_pca = get_accuracy_precision_on_nn(x_train_scaled_pca, x_test_scaled_pca, y_train, y_test, \"MLP\")\n",
    "\n",
    "print(\"------------- Multi-layer Perceptron -------------\")\n",
    "print(\"Score sur le test (non normalisées) :\", mlp_accuracy)\n",
    "print(\"Score sur le test (normalisées) :\", mlp_accuracy_norm)\n",
    "print(\"Score sur le test (PCA norm) :\", mlp_accuracy_pca, \"\\n\")\n",
    "print(\"Score précision sur le test (non normalisées) :\", mlp_precision)\n",
    "print(\"Score précision sur le test (normalisées) :\", mlp_precision_norm)\n",
    "print(\"Score précision sur le test (PCA norm) :\", mlp_precision_pca)\n",
    "print(\"--------------------------------------------------\")"
   ],
   "metadata": {
    "collapsed": false,
    "ExecuteTime": {
     "end_time": "2024-01-30T15:26:32.695030400Z",
     "start_time": "2024-01-30T15:26:28.165889500Z"
    }
   },
   "id": "894cc3dc1f5ef08a"
  },
  {
   "cell_type": "markdown",
   "source": [
    "| --- | --- | --- | --- |\n",
    "| **Modèle** | **Données** | **Accuracy** | **Precision** |\n",
    "| CART | Non normalisées | 0.727 | **0.819** |\n",
    "| KNN | Non normalisées | 0.725 | 0.771 |\n",
    "| MLP | Non normalisées | **0.735** | 0.744 |\n",
    "| --- | --- | --- | --- |\n",
    "| CART | Normalisées | 0.727 | 0.818 |\n",
    "| KNN | Normalisées | 0.753 | 0.811 |\n",
    "| MLP | Normalisées | **0.777** | **0.838** |\n",
    "| --- | --- | --- | --- |\n",
    "| CART | PCA norm | 0.736 | **0.833** |\n",
    "| KNN | PCA norm | 0.756 | 0.81 |\n",
    "| MLP | PCA norm | **0.77** | 0.827 |\n",
    "\n",
    "Pour la suite du TP, on prendra donc la configuration possédant la meilleure alliance accuracy/precision, à savoir le **MLP avec les données normalisées**.\n",
    "\n",
    "#### 5. Sélection de variables"
   ],
   "metadata": {
    "collapsed": false
   },
   "id": "93978525305225ff"
  },
  {
   "cell_type": "code",
   "execution_count": 8,
   "outputs": [
    {
     "name": "stdout",
     "output_type": "stream",
     "text": [
      "Index(['Income', 'Seniority', 'Price', 'Amount', 'Age', 'Assets', 'Expenses',\n",
      "       'Records', 'Time', 'Job', 'Debt', 'Home', 'Marital'],\n",
      "      dtype='object')\n"
     ]
    },
    {
     "data": {
      "text/plain": "<Figure size 640x480 with 1 Axes>",
      "image/png": "[encoded data removed]"
     },
     "metadata": {},
     "output_type": "display_data"
    }
   ],
   "source": [
    "from sklearn.ensemble import RandomForestClassifier\n",
    "\n",
    "# On sélectionne les données normalisées\n",
    "x_train = x_train_scaled\n",
    "x_test = x_test_scaled\n",
    "\n",
    "# On définit notre modèle\n",
    "clf = RandomForestClassifier(n_estimators=1000)\n",
    "clf.fit(x_train, y_train)\n",
    "\n",
    "# On récupère les features importances\n",
    "importances = clf.feature_importances_\n",
    "std = np.std([tree.feature_importances_ for tree in clf.estimators_], axis=0)\n",
    "sorted_idx = np.argsort(importances)[::-1]\n",
    "features = df.columns[0:len(df.columns)-1]\n",
    "print(features[sorted_idx])\n",
    "\n",
    "# On affiche l'histogramme\n",
    "padding = np.arange(x_train.size/len(y_train)) + 0.5\n",
    "plt.barh(padding, importances[sorted_idx],xerr=std[sorted_idx], align='center')\n",
    "plt.yticks(padding, features[sorted_idx])\n",
    "plt.xlabel(\"Relative Importance\")\n",
    "plt.title(\"Variable Importance\")\n",
    "plt.show()"
   ],
   "metadata": {
    "collapsed": false,
    "ExecuteTime": {
     "end_time": "2024-01-30T15:26:40.459146Z",
     "start_time": "2024-01-30T15:26:32.692049600Z"
    }
   },
   "id": "6566a096e2a8b046"
  },
  {
   "cell_type": "code",
   "execution_count": 9,
   "outputs": [
    {
     "data": {
      "text/plain": "<Figure size 640x480 with 1 Axes>",
      "image/png": "[encoded data removed]"
     },
     "metadata": {},
     "output_type": "display_data"
    }
   ],
   "source": [
    "model = MLPClassifier(hidden_layer_sizes=(40, 20), random_state=RANDOM_STATE)\n",
    "scores = np.zeros(x_train.shape[1]+1)\n",
    "\n",
    "for f in np.arange(0, x_train.shape[1]+1):\n",
    "    X1_f = x_train[:,sorted_idx[:f+1]]\n",
    "    X2_f = x_test[:,sorted_idx[:f+1]]\n",
    "    model.fit(X1_f,y_train)\n",
    "    y_model = model.predict(X2_f)\n",
    "    scores[f]=np.round(accuracy_score(y_test, y_model),3)\n",
    "plt.plot(scores)\n",
    "plt.xlabel(\"Nombre de Variables\")\n",
    "plt.ylabel(\"Accuracy\")\n",
    "plt.title(\"Evolution de l'accuracy en fonction des variables\")\n",
    "plt.show()"
   ],
   "metadata": {
    "collapsed": false,
    "ExecuteTime": {
     "end_time": "2024-01-30T15:27:05.908454300Z",
     "start_time": "2024-01-30T15:26:40.452618600Z"
    }
   },
   "id": "763cad29bc63f9e0"
  },
  {
   "cell_type": "markdown",
   "source": [
    "#### 6. Paramétrage des classifieurs"
   ],
   "metadata": {
    "collapsed": false
   },
   "id": "4104f6645c0e2d5a"
  },
  {
   "cell_type": "code",
   "execution_count": 10,
   "outputs": [
    {
     "name": "stderr",
     "output_type": "stream",
     "text": [
      "\n",
      "KeyboardInterrupt\n",
      "\n"
     ]
    }
   ],
   "source": [
    "# GridSearchCV pour tuner les paramètres du MLP pour maximiser le critère : (accuracy+precision)/2\n",
    "from sklearn.metrics import make_scorer\n",
    "from sklearn.model_selection import GridSearchCV\n",
    "\n",
    "# Sélection des 8 premières variables (0,1,...,7)\n",
    "x_train_f = x_train[:,sorted_idx[:8]]\n",
    "x_test_f = x_test[:,sorted_idx[:8]]\n",
    "\n",
    "def criterion(y_true, y_pred):\n",
    "    return (accuracy_score(y_true, y_pred)+precision_score(y_true, y_pred))/2\n",
    "\n",
    "score = make_scorer(criterion, greater_is_better=True)\n",
    "\n",
    "parameters = {'hidden_layer_sizes':[(40, 20), (30, 10), (40), (20)], \n",
    "              'activation':['identity', 'logistic', 'tanh', 'relu'], \n",
    "              'alpha':[0.0001, 0.001, 0.01, 0.1], \n",
    "              'learning_rate':['constant', 'invscaling', 'adaptive']}\n",
    "\n",
    "clf = GridSearchCV(MLPClassifier(random_state=RANDOM_STATE), parameters, cv=5, scoring=score, n_jobs=-1)\n",
    "clf.fit(x_train_f, y_train)\n",
    "\n",
    "accuracy = accuracy_score(y_test, clf.predict(x_test_f))\n",
    "precision = precision_score(y_test, clf.predict(x_test_f))\n",
    "\n",
    "print(\"Meilleurs paramètres trouvés :\")\n",
    "print(clf.best_params_)\n",
    "print(\"Score sur le test :\", accuracy)\n",
    "print(\"Score précision sur le test :\", precision)"
   ],
   "metadata": {
    "collapsed": false,
    "ExecuteTime": {
     "end_time": "2024-01-30T15:29:58.331750500Z",
     "start_time": "2024-01-30T15:27:05.908454300Z"
    }
   },
   "id": "bb856bf522236444"
  },
  {
   "cell_type": "markdown",
   "source": [
    "Meilleurs paramètres :\n",
    "- activation : sigmoid (softmax)\n",
    "- alpha : 0.001\n",
    "- couche cachées : (40, 20)\n",
    "- taux d'apprentissage : constant\n",
    "\n",
    "Accuracy : 0.795\n",
    "Precision : 0.825\n",
    "Score total selon le critère : 0.81\n",
    "\n",
    "#### 7. Création d'une pipeline"
   ],
   "metadata": {
    "collapsed": false
   },
   "id": "ad26e180a4f5594a"
  },
  {
   "cell_type": "code",
   "execution_count": null,
   "outputs": [],
   "source": [
    "from sklearn.feature_selection import SelectFromModel\n",
    "from sklearn.pipeline import Pipeline\n",
    "import pickle\n",
    "\n",
    "pipeline = Pipeline([\n",
    "    ('clf', SelectFromModel(RandomForestClassifier(n_estimators=1000, random_state=RANDOM_STATE), max_features=8)),\n",
    "    ('scaler', StandardScaler()),\n",
    "    ('mlp2', MLPClassifier(activation='logistic', alpha=0.001, hidden_layer_sizes=(40, 20), learning_rate='constant', random_state=RANDOM_STATE))\n",
    "])\n",
    "\n",
    "pipeline.fit(x, y)\n",
    "\n",
    "accuracy = accuracy_score(y, pipeline.predict(x))\n",
    "precision = precision_score(y, pipeline.predict(x))\n",
    "\n",
    "print(\"Score sur le test :\", accuracy)\n",
    "print(\"Score précision sur le test :\", precision)\n",
    "\n",
    "# Sauvegarde du pipeline\n",
    "with open('pipeline.pkl', 'wb') as f:\n",
    "    pickle.dump(pipeline, f)\n",
    "\n",
    "# Utilisation du pipeline\n",
    "with open('pipeline.pkl', 'rb') as f:\n",
    "    pipeline = pickle.load(f)\n",
    "    preds_proba = pipeline.predict_proba(x)\n",
    "    preds = pipeline.predict(x)\n",
    "    print(\"After loading \")\n",
    "    print(accuracy_score(y, preds))"
   ],
   "metadata": {
    "collapsed": false,
    "ExecuteTime": {
     "end_time": "2024-01-30T15:29:58.343019900Z",
     "start_time": "2024-01-30T15:29:58.336670200Z"
    }
   },
   "id": "51818041755877e5"
  },
  {
   "cell_type": "markdown",
   "source": [
    "#### 8. Comparaison de plusieurs algorithmes d'apprentissage"
   ],
   "metadata": {
    "collapsed": false
   },
   "id": "7b399f2940d77ed8"
  },
  {
   "cell_type": "code",
   "execution_count": null,
   "outputs": [],
   "source": [
    "from sklearn.model_selection import KFold, cross_validate\n",
    "\n",
    "\n",
    "def run_classifiers(x, y, clfs):\n",
    "    \"\"\"\n",
    "    Run classifiers on the given data.\n",
    "    :param x: inputs\n",
    "    :param y: targets\n",
    "    :param clfs: classifiers (dictionary)\n",
    "    :return: \n",
    "    \"\"\"\n",
    "    kf = KFold(n_splits=10, shuffle=True, random_state=0)\n",
    "    for clf_name, clf in clfs.items():\n",
    "        cv_validate = cross_validate(clf, x, y, cv=kf, scoring=['accuracy', 'roc_auc', 'precision'])\n",
    "        print(f\"Classifier: {clf_name}\")\n",
    "        print(f\"Accuracy: {np.mean(cv_validate['test_accuracy']):.3f} +/- {np.std(cv_validate['test_accuracy']):.3f}\")\n",
    "        print(f\"AUC: {np.mean(cv_validate['test_roc_auc']):.3f} +/- {np.std(cv_validate['test_roc_auc']):.3f}\")\n",
    "        print(f\"Precision: {np.mean(cv_validate['test_precision']):.3f} +/- {np.std(cv_validate['test_precision']):.3f}\")\n",
    "        print(f\"Custom scoring : {(np.mean(cv_validate['test_accuracy'] + cv_validate['test_precision']))/2:.3f} +/- {(np.std(cv_validate['test_accuracy'] + cv_validate['test_precision']))/2:.3f}\")\n",
    "        print(f\"Learning time (fit): {np.mean(cv_validate['fit_time']):.3f} secondes\")\n",
    "        print(\"\\n\")"
   ],
   "metadata": {
    "collapsed": false,
    "ExecuteTime": {
     "start_time": "2024-01-30T15:29:58.340674Z"
    }
   },
   "id": "aa77a3640a9cc2c"
  },
  {
   "cell_type": "code",
   "execution_count": null,
   "outputs": [],
   "source": [
    "from xgboost import XGBClassifier\n",
    "from sklearn.ensemble import BaggingClassifier, AdaBoostClassifier\n",
    "from sklearn.naive_bayes import GaussianNB\n",
    "\n",
    "parameters = {\n",
    "    'n_estimators': 200,\n",
    "    'n_neigbors': 10,\n",
    "    'hidden_layer_sizes': (20, 10),\n",
    "}\n",
    "\n",
    "clfs = {\n",
    "    'NaiveBayesSimple': GaussianNB(),\n",
    "    'CART': DecisionTreeClassifier(random_state=RANDOM_STATE),\n",
    "    'ID3': DecisionTreeClassifier(criterion='entropy', random_state=RANDOM_STATE),\n",
    "    'STUMP': DecisionTreeClassifier(max_depth=1, random_state=RANDOM_STATE),\n",
    "    'mlp': MLPClassifier(hidden_layer_sizes=parameters['hidden_layer_sizes'], random_state=RANDOM_STATE),\n",
    "    'KNN': KNeighborsClassifier(n_neighbors=parameters['n_neigbors'], n_jobs=-1),\n",
    "    'Bagging': BaggingClassifier(n_estimators=parameters['n_estimators'], random_state=RANDOM_STATE, n_jobs=-1),\n",
    "    'AdaBoost': AdaBoostClassifier(n_estimators=parameters['n_estimators'], random_state=RANDOM_STATE),\n",
    "    'RF': RandomForestClassifier(n_estimators=parameters['n_estimators'], random_state=RANDOM_STATE, n_jobs=-1),\n",
    "    'XGBoost': XGBClassifier(n_estimators=parameters['n_estimators'], random_state=RANDOM_STATE)\n",
    "}\n",
    "\n",
    "# Non normalisées\n",
    "# run_classifiers(x, y, clfs)\n",
    "\n",
    "# Normalisées\n",
    "run_classifiers(x_train, y_train, clfs)"
   ],
   "metadata": {
    "collapsed": false,
    "ExecuteTime": {
     "start_time": "2024-01-30T15:29:58.344030200Z"
    }
   },
   "id": "57fcaad9c3c1bcda"
  },
  {
   "cell_type": "markdown",
   "source": [
    "Avec les données non normalisées :\n",
    "\n",
    "|---|---|---|---|---|\n",
    "| **Classifier** | **Accuracy** | **AUC** | **Precision** | **Custom score** | **Fitting time** | **Parameters** |\n",
    "| NaiveBayesSimple | 0.772 | 0.791 | 0.828 | 0.800 | 0.002 | - |\n",
    "| CART | 0.727 | 0.656 | 0.808 | 0.767 | 0.020 | - |\n",
    "| ID3 | 0.723 | 0.664 | 0.814 | 0.769 | 0.017 | - |\n",
    "| STUMP | 0.722 | 0.618 | 0.740 | 0.731 | 0.002 | - |\n",
    "| MLP | 0.681 | 0.689 | 0.801 | 0.741 | 0.392 | hidden_layer_sizes=(20, 10) |\n",
    "| KNN | 0.732 | 0.680 | 0.778 | 0.755 | 0.008 | n_neighbors=10 |\n",
    "| Bagging | 0.782 | 0.823 | 0.825 | 0.804 | 0.789 | n_estimators=200 |\n",
    "| AdaBoost | 0.790 | 0.822 | 0.825 | **0.807** | 0.596 | n_estimators=200 |\n",
    "| RF | 0.786 | 0.829 | 0.818 | 0.802 | 0.966 | n_estimators=200 |\n",
    "| XGBoost | 0.765 | 0.805 | 0.820 | 0.793 | 0.141 | n_estimators=200 |\n",
    "\n",
    "Meilleur algo : AdaBoost avec un custom score de 0.807\n",
    "\n",
    "Avec les données normalisées :\n",
    "\n",
    "|---|---|---|---|---|\n",
    "| **Classifier** | **Accuracy** | **AUC** | **Precision** | **Custom score** | **Fitting time** | **Parameters** |\n",
    "| NaiveBayesSimple | 0.757 | 0.783 | 0.815 | 0.786 | 0.005 | - |\n",
    "| CART | 0.709 | 0.641 | 0.799 | 0.754 | 0.010 | - |\n",
    "| ID3 | 0.704 | 0.629 | 0.791 | 0.748 | 0.010 | - |\n",
    "| STUMP | 0.721 | 0.617 | 0.736 | 0.728 | 0.003 | - |\n",
    "| MLP | 0.792 | 0.838 | 0.836 | **0.814** | 0.626 | hidden_layer_sizes=(20, 10) |\n",
    "| KNN | 0.754 | 0.778 | 0.811 | 0.783 | 0.002 | n_neighbors=10 |\n",
    "| Bagging | 0.760 | 0.800 | 0.809 | 0.784 | 0.342 | n_estimators=200 |\n",
    "| AdaBoost | 0.770 | 0.807 | 0.815 | 0.793 | 0.432 | n_estimators=200 |\n",
    "| RF | 0.770 | 0.817 | 0.807 | 0.788 | 0.620 | n_estimators=200 |\n",
    "| XGBoost | 0.761 | 0.793 | 0.812 | 0.787 | 0.124 | n_estimators=200 |\n",
    "\n",
    "Meilleur algo : MLP avec un custom score de 0.814\n"
   ],
   "metadata": {
    "collapsed": false
   },
   "id": "9788bff8bcf06af0"
  },
  {
   "cell_type": "code",
   "execution_count": 21,
   "outputs": [
    {
     "name": "stdout",
     "output_type": "stream",
     "text": [
      "0.7936 0.8202725724020443\n"
     ]
    }
   ],
   "source": [
    "from sklearn.pipeline import Pipeline\n",
    "from sklearn.feature_selection import SelectFromModel\n",
    "import pickle\n",
    "\n",
    "pipeline_final = Pipeline([\n",
    "    ('clf', SelectFromModel(RandomForestClassifier(n_estimators=1000, random_state=RANDOM_STATE), max_features=8)),\n",
    "    ('scaler', StandardScaler()),\n",
    "    ('mlp', MLPClassifier(hidden_layer_sizes=(40, 20), random_state=RANDOM_STATE))\n",
    "])\n",
    "\n",
    "pipeline_final.fit(x, y)\n",
    "\n",
    "accuracy = accuracy_score(y, pipeline_final.predict(x))\n",
    "precision = precision_score(y, pipeline_final.predict(x))\n",
    "\n",
    "print(accuracy, precision)\n",
    "\n",
    "with open('../artifacts/model.pickle', 'wb') as f:\n",
    "    pickle.dump(pipeline_final, f)"
   ],
   "metadata": {
    "collapsed": false,
    "ExecuteTime": {
     "end_time": "2024-01-30T15:32:25.534304800Z",
     "start_time": "2024-01-30T15:32:15.469278200Z"
    }
   },
   "id": "22b5a6517403bd79"
  },
  {
   "cell_type": "code",
   "execution_count": 19,
   "outputs": [
    {
     "name": "stdout",
     "output_type": "stream",
     "text": [
      "0.7922814639905549\n"
     ]
    }
   ],
   "source": [
    "custom = (accuracy + precision) / 2\n",
    "print(custom)"
   ],
   "metadata": {
    "collapsed": false,
    "ExecuteTime": {
     "end_time": "2024-01-30T15:31:52.709036700Z",
     "start_time": "2024-01-30T15:31:52.704002200Z"
    }
   },
   "id": "e5d94b59ef41055d"
  }
 ],
 "metadata": {
  "kernelspec": {
   "display_name": "Python 3",
   "language": "python",
   "name": "python3"
  },
  "language_info": {
   "codemirror_mode": {
    "name": "ipython",
    "version": 2
   },
   "file_extension": ".py",
   "mimetype": "text/x-python",
   "name": "python",
   "nbconvert_exporter": "python",
   "pygments_lexer": "ipython2",
   "version": "2.7.6"
  }
 },
 "nbformat": 4,
 "nbformat_minor": 5
}
